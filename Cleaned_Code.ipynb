{
 "cells": [
  {
   "cell_type": "markdown",
   "metadata": {
    "id": "YJJwNgpZbvtT"
   },
   "source": [
    "**Importing libaries for exploratory data analysis**"
   ]
  },
  {
   "cell_type": "code",
   "execution_count": 1,
   "metadata": {
    "id": "HFB2EotxbqB4"
   },
   "outputs": [],
   "source": [
    "import pandas as pd\n",
    "import numpy as np"
   ]
  },
  {
   "cell_type": "markdown",
   "metadata": {
    "id": "hGjOSCXFcpx5"
   },
   "source": [
    "**Loading and understanding the dataset**"
   ]
  },
  {
   "cell_type": "code",
   "execution_count": 3,
   "metadata": {
    "id": "lDoiMs2NdEXN"
   },
   "outputs": [],
   "source": [
    "df = pd.read_csv('dangote-biz-analytics.csv')"
   ]
  },
  {
   "cell_type": "code",
   "execution_count": 4,
   "metadata": {
    "colab": {
     "base_uri": "https://localhost:8080/"
    },
    "id": "SuAijdpQdsqF",
    "outputId": "c153a025-8a46-44ad-baa5-6bb92944f418"
   },
   "outputs": [
    {
     "data": {
      "text/plain": [
       "(1775, 7)"
      ]
     },
     "execution_count": 4,
     "metadata": {},
     "output_type": "execute_result"
    }
   ],
   "source": [
    "df.shape"
   ]
  },
  {
   "cell_type": "code",
   "execution_count": 5,
   "metadata": {
    "colab": {
     "base_uri": "https://localhost:8080/",
     "height": 289
    },
    "id": "Zc6f02TYdydX",
    "outputId": "23aa1aa1-f07f-4af3-ac4b-5238f121a346"
   },
   "outputs": [
    {
     "data": {
      "text/html": [
       "<div>\n",
       "<style scoped>\n",
       "    .dataframe tbody tr th:only-of-type {\n",
       "        vertical-align: middle;\n",
       "    }\n",
       "\n",
       "    .dataframe tbody tr th {\n",
       "        vertical-align: top;\n",
       "    }\n",
       "\n",
       "    .dataframe thead th {\n",
       "        text-align: right;\n",
       "    }\n",
       "</style>\n",
       "<table border=\"1\" class=\"dataframe\">\n",
       "  <thead>\n",
       "    <tr style=\"text-align: right;\">\n",
       "      <th></th>\n",
       "      <th>DATE</th>\n",
       "      <th>Product Type</th>\n",
       "      <th>Production Capacity Per day/(Liters)</th>\n",
       "      <th>Production Volume per day/(Liters)</th>\n",
       "      <th>Total Revenue</th>\n",
       "      <th>Operating Costs (USD)</th>\n",
       "      <th>Net Profit (USD)</th>\n",
       "    </tr>\n",
       "  </thead>\n",
       "  <tbody>\n",
       "    <tr>\n",
       "      <th>0</th>\n",
       "      <td>1/12/2023</td>\n",
       "      <td>Aviation Fuel</td>\n",
       "      <td>90000</td>\n",
       "      <td>240000</td>\n",
       "      <td>7533000.0</td>\n",
       "      <td>86000</td>\n",
       "      <td>7447000.0</td>\n",
       "    </tr>\n",
       "    <tr>\n",
       "      <th>1</th>\n",
       "      <td>1/12/2023</td>\n",
       "      <td>Aviation Fuel</td>\n",
       "      <td>630000</td>\n",
       "      <td>310000</td>\n",
       "      <td>52731000.0</td>\n",
       "      <td>86000</td>\n",
       "      <td>52645000.0</td>\n",
       "    </tr>\n",
       "    <tr>\n",
       "      <th>2</th>\n",
       "      <td>1/12/2023</td>\n",
       "      <td>Aviation Fuel</td>\n",
       "      <td>90000</td>\n",
       "      <td>185000</td>\n",
       "      <td>7533000.0</td>\n",
       "      <td>86000</td>\n",
       "      <td>7447000.0</td>\n",
       "    </tr>\n",
       "    <tr>\n",
       "      <th>3</th>\n",
       "      <td>1/12/2023</td>\n",
       "      <td>Black oil</td>\n",
       "      <td>540000</td>\n",
       "      <td>240000</td>\n",
       "      <td>39690000.0</td>\n",
       "      <td>82000</td>\n",
       "      <td>39608000.0</td>\n",
       "    </tr>\n",
       "    <tr>\n",
       "      <th>4</th>\n",
       "      <td>1/12/2023</td>\n",
       "      <td>Black oil</td>\n",
       "      <td>630000</td>\n",
       "      <td>310000</td>\n",
       "      <td>46305000.0</td>\n",
       "      <td>82000</td>\n",
       "      <td>46223000.0</td>\n",
       "    </tr>\n",
       "    <tr>\n",
       "      <th>5</th>\n",
       "      <td>1/12/2023</td>\n",
       "      <td>Black oil</td>\n",
       "      <td>90000</td>\n",
       "      <td>185000</td>\n",
       "      <td>6615000.0</td>\n",
       "      <td>82000</td>\n",
       "      <td>6533000.0</td>\n",
       "    </tr>\n",
       "  </tbody>\n",
       "</table>\n",
       "</div>"
      ],
      "text/plain": [
       "        DATE   Product Type  Production Capacity Per day/(Liters)  \\\n",
       "0  1/12/2023  Aviation Fuel                                 90000   \n",
       "1  1/12/2023  Aviation Fuel                                630000   \n",
       "2  1/12/2023  Aviation Fuel                                 90000   \n",
       "3  1/12/2023      Black oil                                540000   \n",
       "4  1/12/2023      Black oil                                630000   \n",
       "5  1/12/2023      Black oil                                 90000   \n",
       "\n",
       "   Production Volume per day/(Liters)  Total Revenue   Operating Costs (USD)  \\\n",
       "0                              240000       7533000.0                  86000   \n",
       "1                              310000      52731000.0                  86000   \n",
       "2                              185000       7533000.0                  86000   \n",
       "3                              240000      39690000.0                  82000   \n",
       "4                              310000      46305000.0                  82000   \n",
       "5                              185000       6615000.0                  82000   \n",
       "\n",
       "   Net Profit (USD)  \n",
       "0         7447000.0  \n",
       "1        52645000.0  \n",
       "2         7447000.0  \n",
       "3        39608000.0  \n",
       "4        46223000.0  \n",
       "5         6533000.0  "
      ]
     },
     "execution_count": 5,
     "metadata": {},
     "output_type": "execute_result"
    }
   ],
   "source": [
    "df.head(6)"
   ]
  },
  {
   "cell_type": "markdown",
   "metadata": {
    "id": "yQeRiU0FeHqJ"
   },
   "source": [
    "**Performing data cleaning activities**"
   ]
  },
  {
   "cell_type": "code",
   "execution_count": 6,
   "metadata": {
    "colab": {
     "base_uri": "https://localhost:8080/"
    },
    "id": "OeWEHlABeVgn",
    "outputId": "35f68935-d57c-4e99-b00c-8431f3840bc9"
   },
   "outputs": [
    {
     "name": "stdout",
     "output_type": "stream",
     "text": [
      "Missing data in each column:\n",
      "DATE                                    0\n",
      "Product Type                            8\n",
      "Production Capacity Per day/(Liters)    0\n",
      "Production Volume per day/(Liters)      0\n",
      "Total Revenue                           0\n",
      "Operating Costs (USD)                   0\n",
      "Net Profit (USD)                        0\n",
      "dtype: int64\n"
     ]
    }
   ],
   "source": [
    "#Check for missing data\n",
    "missing_data = df.isnull().sum()\n",
    "print(\"Missing data in each column:\")\n",
    "print(missing_data)"
   ]
  },
  {
   "cell_type": "code",
   "execution_count": 7,
   "metadata": {
    "id": "x4NvZWscgpjB"
   },
   "outputs": [],
   "source": [
    "#Adding the $ sign to specified columns\n",
    "columns_to_format = ['Gross Sales', 'Discounts', 'Returns', 'Total Net Sales']\n",
    "for column in columns_to_format:\n",
    "    if column in df.columns:\n",
    "        df[column] = df[column].apply(lambda x: f\"${x:.2f}\" if pd.notnull(x) else x)\n"
   ]
  },
  {
   "cell_type": "code",
   "execution_count": 8,
   "metadata": {
    "colab": {
     "base_uri": "https://localhost:8080/"
    },
    "id": "MhacPwCAhAGg",
    "outputId": "b71b474d-bfc3-4eb2-c338-42d001cdba3a"
   },
   "outputs": [
    {
     "name": "stdout",
     "output_type": "stream",
     "text": [
      "\n",
      "Number of duplicate rows: 383\n"
     ]
    }
   ],
   "source": [
    "# Check for duplicates in each column\n",
    "duplicates_count = df.duplicated().sum()\n",
    "print(f\"\\nNumber of duplicate rows: {duplicates_count}\")\n",
    "\n",
    "# Remove duplicate rows\n",
    "df = df.drop_duplicates()"
   ]
  },
  {
   "cell_type": "code",
   "execution_count": 9,
   "metadata": {
    "colab": {
     "base_uri": "https://localhost:8080/"
    },
    "id": "8QbG-oPCigqt",
    "outputId": "923e0802-6eb4-46c0-febe-ec77d64d10e3"
   },
   "outputs": [
    {
     "name": "stdout",
     "output_type": "stream",
     "text": [
      "\n",
      "Missing data after removing duplicates:\n",
      "DATE                                    0\n",
      "Product Type                            8\n",
      "Production Capacity Per day/(Liters)    0\n",
      "Production Volume per day/(Liters)      0\n",
      "Total Revenue                           0\n",
      "Operating Costs (USD)                   0\n",
      "Net Profit (USD)                        0\n",
      "dtype: int64\n"
     ]
    }
   ],
   "source": [
    "# Rechecking missing data after duplicate removal\n",
    "missing_data = df.isnull().sum()\n",
    "print(\"\\nMissing data after removing duplicates:\")\n",
    "print(missing_data)\n",
    "\n",
    "# Dropping rows with missing data\n",
    "df_cleaned = df.dropna()"
   ]
  },
  {
   "cell_type": "code",
   "execution_count": 11,
   "metadata": {
    "colab": {
     "base_uri": "https://localhost:8080/"
    },
    "id": "aOhM1ozUjJW4",
    "outputId": "3cfdaaa0-ddb9-41e1-db53-3e0da36d52a7"
   },
   "outputs": [
    {
     "name": "stdout",
     "output_type": "stream",
     "text": [
      "\n",
      "Cleaned dataset saved to cleaned_dataset.csv\n"
     ]
    }
   ],
   "source": [
    "# Saving the cleaned dataset to a CSV file\n",
    "cleaned_file_path = 'cleaned_dataset.csv'\n",
    "df_cleaned.to_csv(cleaned_file_path, index=False)\n",
    "print(f\"\\nCleaned dataset saved to {cleaned_file_path}\")"
   ]
  },
  {
   "cell_type": "code",
   "execution_count": null,
   "metadata": {},
   "outputs": [],
   "source": []
  }
 ],
 "metadata": {
  "colab": {
   "provenance": []
  },
  "kernelspec": {
   "display_name": "Python 3 (ipykernel)",
   "language": "python",
   "name": "python3"
  },
  "language_info": {
   "codemirror_mode": {
    "name": "ipython",
    "version": 3
   },
   "file_extension": ".py",
   "mimetype": "text/x-python",
   "name": "python",
   "nbconvert_exporter": "python",
   "pygments_lexer": "ipython3",
   "version": "3.11.9"
  }
 },
 "nbformat": 4,
 "nbformat_minor": 4
}
