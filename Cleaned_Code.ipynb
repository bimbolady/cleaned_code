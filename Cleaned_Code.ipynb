{
 "cells": [
  {
   "cell_type": "markdown",
   "metadata": {
    "id": "YJJwNgpZbvtT"
   },
   "source": [
    "**Importing libaries for exploratory data analysis**"
   ]
  },
  {
   "cell_type": "code",
   "execution_count": 2,
   "metadata": {
    "id": "HFB2EotxbqB4"
   },
   "outputs": [],
   "source": [
    "import pandas as pd\n",
    "import numpy as np"
   ]
  },
  {
   "cell_type": "markdown",
   "metadata": {
    "id": "hGjOSCXFcpx5"
   },
   "source": [
    "**Loading and understanding the dataset**"
   ]
  },
  {
   "cell_type": "code",
   "execution_count": 3,
   "metadata": {
    "id": "lDoiMs2NdEXN"
   },
   "outputs": [],
   "source": [
    "df = pd.read_csv('oil_retail_prices.csv')"
   ]
  },
  {
   "cell_type": "code",
   "execution_count": 4,
   "metadata": {
    "colab": {
     "base_uri": "https://localhost:8080/"
    },
    "id": "SuAijdpQdsqF",
    "outputId": "c153a025-8a46-44ad-baa5-6bb92944f418"
   },
   "outputs": [
    {
     "data": {
      "text/plain": [
       "(1775, 6)"
      ]
     },
     "execution_count": 4,
     "metadata": {},
     "output_type": "execute_result"
    }
   ],
   "source": [
    "df.shape"
   ]
  },
  {
   "cell_type": "code",
   "execution_count": 5,
   "metadata": {
    "colab": {
     "base_uri": "https://localhost:8080/",
     "height": 289
    },
    "id": "Zc6f02TYdydX",
    "outputId": "23aa1aa1-f07f-4af3-ac4b-5238f121a346"
   },
   "outputs": [
    {
     "data": {
      "text/html": [
       "<div>\n",
       "<style scoped>\n",
       "    .dataframe tbody tr th:only-of-type {\n",
       "        vertical-align: middle;\n",
       "    }\n",
       "\n",
       "    .dataframe tbody tr th {\n",
       "        vertical-align: top;\n",
       "    }\n",
       "\n",
       "    .dataframe thead th {\n",
       "        text-align: right;\n",
       "    }\n",
       "</style>\n",
       "<table border=\"1\" class=\"dataframe\">\n",
       "  <thead>\n",
       "    <tr style=\"text-align: right;\">\n",
       "      <th></th>\n",
       "      <th>Product Type</th>\n",
       "      <th>Net Quantity</th>\n",
       "      <th>Gross Sales</th>\n",
       "      <th>Discounts</th>\n",
       "      <th>Returns</th>\n",
       "      <th>Total Net Sales</th>\n",
       "    </tr>\n",
       "  </thead>\n",
       "  <tbody>\n",
       "    <tr>\n",
       "      <th>0</th>\n",
       "      <td>Engine oil</td>\n",
       "      <td>34</td>\n",
       "      <td>14935.0</td>\n",
       "      <td>-594.00</td>\n",
       "      <td>-1609.0</td>\n",
       "      <td>12732.00</td>\n",
       "    </tr>\n",
       "    <tr>\n",
       "      <th>1</th>\n",
       "      <td>Kerosene</td>\n",
       "      <td>13</td>\n",
       "      <td>3744.0</td>\n",
       "      <td>-316.80</td>\n",
       "      <td>0.0</td>\n",
       "      <td>3427.20</td>\n",
       "    </tr>\n",
       "    <tr>\n",
       "      <th>2</th>\n",
       "      <td>Kerosene</td>\n",
       "      <td>12</td>\n",
       "      <td>3825.0</td>\n",
       "      <td>-201.60</td>\n",
       "      <td>-288.0</td>\n",
       "      <td>3335.40</td>\n",
       "    </tr>\n",
       "    <tr>\n",
       "      <th>3</th>\n",
       "      <td>Kerosene</td>\n",
       "      <td>17</td>\n",
       "      <td>3035.0</td>\n",
       "      <td>-63.25</td>\n",
       "      <td>0.0</td>\n",
       "      <td>2971.75</td>\n",
       "    </tr>\n",
       "    <tr>\n",
       "      <th>4</th>\n",
       "      <td>Engine oil</td>\n",
       "      <td>47</td>\n",
       "      <td>2696.8</td>\n",
       "      <td>-44.16</td>\n",
       "      <td>0.0</td>\n",
       "      <td>2652.64</td>\n",
       "    </tr>\n",
       "    <tr>\n",
       "      <th>5</th>\n",
       "      <td>Kerosene</td>\n",
       "      <td>17</td>\n",
       "      <td>2695.0</td>\n",
       "      <td>-52.50</td>\n",
       "      <td>-110.0</td>\n",
       "      <td>2532.50</td>\n",
       "    </tr>\n",
       "  </tbody>\n",
       "</table>\n",
       "</div>"
      ],
      "text/plain": [
       "  Product Type  Net Quantity  Gross Sales  Discounts  Returns  Total Net Sales\n",
       "0   Engine oil            34      14935.0    -594.00  -1609.0         12732.00\n",
       "1     Kerosene            13       3744.0    -316.80      0.0          3427.20\n",
       "2     Kerosene            12       3825.0    -201.60   -288.0          3335.40\n",
       "3     Kerosene            17       3035.0     -63.25      0.0          2971.75\n",
       "4   Engine oil            47       2696.8     -44.16      0.0          2652.64\n",
       "5     Kerosene            17       2695.0     -52.50   -110.0          2532.50"
      ]
     },
     "execution_count": 5,
     "metadata": {},
     "output_type": "execute_result"
    }
   ],
   "source": [
    "df.head(6)"
   ]
  },
  {
   "cell_type": "markdown",
   "metadata": {
    "id": "yQeRiU0FeHqJ"
   },
   "source": [
    "**Performing data cleaning activities**"
   ]
  },
  {
   "cell_type": "code",
   "execution_count": 6,
   "metadata": {
    "colab": {
     "base_uri": "https://localhost:8080/"
    },
    "id": "OeWEHlABeVgn",
    "outputId": "35f68935-d57c-4e99-b00c-8431f3840bc9"
   },
   "outputs": [
    {
     "name": "stdout",
     "output_type": "stream",
     "text": [
      "Missing data in each column:\n",
      "Product Type       8\n",
      "Net Quantity       0\n",
      "Gross Sales        0\n",
      "Discounts          0\n",
      "Returns            0\n",
      "Total Net Sales    0\n",
      "dtype: int64\n"
     ]
    }
   ],
   "source": [
    "#Check for missing data\n",
    "missing_data = df.isnull().sum()\n",
    "print(\"Missing data in each column:\")\n",
    "print(missing_data)"
   ]
  },
  {
   "cell_type": "code",
   "execution_count": 7,
   "metadata": {
    "id": "x4NvZWscgpjB"
   },
   "outputs": [],
   "source": [
    "#Adding the $ sign to specified columns\n",
    "columns_to_format = ['Gross Sales', 'Discounts', 'Returns', 'Total Net Sales']\n",
    "for column in columns_to_format:\n",
    "    if column in df.columns:\n",
    "        df[column] = df[column].apply(lambda x: f\"${x:.2f}\" if pd.notnull(x) else x)\n"
   ]
  },
  {
   "cell_type": "code",
   "execution_count": 8,
   "metadata": {
    "colab": {
     "base_uri": "https://localhost:8080/"
    },
    "id": "MhacPwCAhAGg",
    "outputId": "b71b474d-bfc3-4eb2-c338-42d001cdba3a"
   },
   "outputs": [
    {
     "name": "stdout",
     "output_type": "stream",
     "text": [
      "\n",
      "Number of duplicate rows: 512\n"
     ]
    }
   ],
   "source": [
    "# Check for duplicates in each column\n",
    "duplicates_count = df.duplicated().sum()\n",
    "print(f\"\\nNumber of duplicate rows: {duplicates_count}\")\n",
    "\n",
    "# Remove duplicate rows\n",
    "df = df.drop_duplicates()"
   ]
  },
  {
   "cell_type": "code",
   "execution_count": 9,
   "metadata": {
    "colab": {
     "base_uri": "https://localhost:8080/"
    },
    "id": "8QbG-oPCigqt",
    "outputId": "923e0802-6eb4-46c0-febe-ec77d64d10e3"
   },
   "outputs": [
    {
     "name": "stdout",
     "output_type": "stream",
     "text": [
      "\n",
      "Missing data after removing duplicates:\n",
      "Product Type       7\n",
      "Net Quantity       0\n",
      "Gross Sales        0\n",
      "Discounts          0\n",
      "Returns            0\n",
      "Total Net Sales    0\n",
      "dtype: int64\n"
     ]
    }
   ],
   "source": [
    "# Rechecking missing data after duplicate removal\n",
    "missing_data = df.isnull().sum()\n",
    "print(\"\\nMissing data after removing duplicates:\")\n",
    "print(missing_data)\n",
    "\n",
    "# Dropping rows with missing data\n",
    "df_cleaned = df.dropna()"
   ]
  },
  {
   "cell_type": "code",
   "execution_count": 13,
   "metadata": {
    "colab": {
     "base_uri": "https://localhost:8080/"
    },
    "id": "aOhM1ozUjJW4",
    "outputId": "3cfdaaa0-ddb9-41e1-db53-3e0da36d52a7"
   },
   "outputs": [
    {
     "name": "stdout",
     "output_type": "stream",
     "text": [
      "\n",
      "Cleaned dataset saved to cleaned_dataset.csv\n"
     ]
    }
   ],
   "source": [
    "# Saving the cleaned dataset to a CSV file\n",
    "cleaned_file_path = 'cleaned_dataset.csv'\n",
    "df_cleaned.to_csv(cleaned_file_path, index=False)\n",
    "print(f\"\\nCleaned dataset saved to {cleaned_file_path}\")"
   ]
  },
  {
   "cell_type": "code",
   "execution_count": null,
   "metadata": {},
   "outputs": [],
   "source": []
  }
 ],
 "metadata": {
  "colab": {
   "provenance": []
  },
  "kernelspec": {
   "display_name": "Python 3 (ipykernel)",
   "language": "python",
   "name": "python3"
  },
  "language_info": {
   "codemirror_mode": {
    "name": "ipython",
    "version": 3
   },
   "file_extension": ".py",
   "mimetype": "text/x-python",
   "name": "python",
   "nbconvert_exporter": "python",
   "pygments_lexer": "ipython3",
   "version": "3.11.9"
  }
 },
 "nbformat": 4,
 "nbformat_minor": 4
}
