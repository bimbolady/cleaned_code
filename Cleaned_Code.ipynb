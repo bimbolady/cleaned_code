{
  "nbformat": 4,
  "nbformat_minor": 0,
  "metadata": {
    "colab": {
      "provenance": []
    },
    "kernelspec": {
      "name": "python3",
      "display_name": "Python 3"
    },
    "language_info": {
      "name": "python"
    }
  },
  "cells": [
    {
      "cell_type": "markdown",
      "source": [
        "**Importing libaries for exploratory data analysis**"
      ],
      "metadata": {
        "id": "YJJwNgpZbvtT"
      }
    },
    {
      "cell_type": "code",
      "execution_count": 2,
      "metadata": {
        "id": "HFB2EotxbqB4"
      },
      "outputs": [],
      "source": [
        "import pandas as pd\n",
        "import numpy as np"
      ]
    },
    {
      "cell_type": "markdown",
      "source": [
        "**Loading and understanding the dataset**"
      ],
      "metadata": {
        "id": "hGjOSCXFcpx5"
      }
    },
    {
      "cell_type": "code",
      "source": [
        "df = pd.read_csv('/content/business.retailsales.csv')"
      ],
      "metadata": {
        "id": "lDoiMs2NdEXN"
      },
      "execution_count": 3,
      "outputs": []
    },
    {
      "cell_type": "code",
      "source": [
        "df.shape"
      ],
      "metadata": {
        "colab": {
          "base_uri": "https://localhost:8080/"
        },
        "id": "SuAijdpQdsqF",
        "outputId": "c153a025-8a46-44ad-baa5-6bb92944f418"
      },
      "execution_count": 4,
      "outputs": [
        {
          "output_type": "execute_result",
          "data": {
            "text/plain": [
              "(1775, 6)"
            ]
          },
          "metadata": {},
          "execution_count": 4
        }
      ]
    },
    {
      "cell_type": "code",
      "source": [
        "df.head(6)"
      ],
      "metadata": {
        "colab": {
          "base_uri": "https://localhost:8080/",
          "height": 289
        },
        "id": "Zc6f02TYdydX",
        "outputId": "23aa1aa1-f07f-4af3-ac4b-5238f121a346"
      },
      "execution_count": 5,
      "outputs": [
        {
          "output_type": "execute_result",
          "data": {
            "text/plain": [
              "      Product Type  Net Quantity  Gross Sales  Discounts  Returns  \\\n",
              "0  Art & Sculpture            34      14935.0    -594.00  -1609.0   \n",
              "1           Basket            13       3744.0    -316.80      0.0   \n",
              "2           Basket            12       3825.0    -201.60   -288.0   \n",
              "3           Basket            17       3035.0     -63.25      0.0   \n",
              "4  Art & Sculpture            47       2696.8     -44.16      0.0   \n",
              "5           Basket            17       2695.0     -52.50   -110.0   \n",
              "\n",
              "   Total Net Sales  \n",
              "0         12732.00  \n",
              "1          3427.20  \n",
              "2          3335.40  \n",
              "3          2971.75  \n",
              "4          2652.64  \n",
              "5          2532.50  "
            ],
            "text/html": [
              "\n",
              "  <div id=\"df-79f22216-7379-4fa5-be57-fc03c4ee294e\" class=\"colab-df-container\">\n",
              "    <div>\n",
              "<style scoped>\n",
              "    .dataframe tbody tr th:only-of-type {\n",
              "        vertical-align: middle;\n",
              "    }\n",
              "\n",
              "    .dataframe tbody tr th {\n",
              "        vertical-align: top;\n",
              "    }\n",
              "\n",
              "    .dataframe thead th {\n",
              "        text-align: right;\n",
              "    }\n",
              "</style>\n",
              "<table border=\"1\" class=\"dataframe\">\n",
              "  <thead>\n",
              "    <tr style=\"text-align: right;\">\n",
              "      <th></th>\n",
              "      <th>Product Type</th>\n",
              "      <th>Net Quantity</th>\n",
              "      <th>Gross Sales</th>\n",
              "      <th>Discounts</th>\n",
              "      <th>Returns</th>\n",
              "      <th>Total Net Sales</th>\n",
              "    </tr>\n",
              "  </thead>\n",
              "  <tbody>\n",
              "    <tr>\n",
              "      <th>0</th>\n",
              "      <td>Art &amp; Sculpture</td>\n",
              "      <td>34</td>\n",
              "      <td>14935.0</td>\n",
              "      <td>-594.00</td>\n",
              "      <td>-1609.0</td>\n",
              "      <td>12732.00</td>\n",
              "    </tr>\n",
              "    <tr>\n",
              "      <th>1</th>\n",
              "      <td>Basket</td>\n",
              "      <td>13</td>\n",
              "      <td>3744.0</td>\n",
              "      <td>-316.80</td>\n",
              "      <td>0.0</td>\n",
              "      <td>3427.20</td>\n",
              "    </tr>\n",
              "    <tr>\n",
              "      <th>2</th>\n",
              "      <td>Basket</td>\n",
              "      <td>12</td>\n",
              "      <td>3825.0</td>\n",
              "      <td>-201.60</td>\n",
              "      <td>-288.0</td>\n",
              "      <td>3335.40</td>\n",
              "    </tr>\n",
              "    <tr>\n",
              "      <th>3</th>\n",
              "      <td>Basket</td>\n",
              "      <td>17</td>\n",
              "      <td>3035.0</td>\n",
              "      <td>-63.25</td>\n",
              "      <td>0.0</td>\n",
              "      <td>2971.75</td>\n",
              "    </tr>\n",
              "    <tr>\n",
              "      <th>4</th>\n",
              "      <td>Art &amp; Sculpture</td>\n",
              "      <td>47</td>\n",
              "      <td>2696.8</td>\n",
              "      <td>-44.16</td>\n",
              "      <td>0.0</td>\n",
              "      <td>2652.64</td>\n",
              "    </tr>\n",
              "    <tr>\n",
              "      <th>5</th>\n",
              "      <td>Basket</td>\n",
              "      <td>17</td>\n",
              "      <td>2695.0</td>\n",
              "      <td>-52.50</td>\n",
              "      <td>-110.0</td>\n",
              "      <td>2532.50</td>\n",
              "    </tr>\n",
              "  </tbody>\n",
              "</table>\n",
              "</div>\n",
              "    <div class=\"colab-df-buttons\">\n",
              "\n",
              "  <div class=\"colab-df-container\">\n",
              "    <button class=\"colab-df-convert\" onclick=\"convertToInteractive('df-79f22216-7379-4fa5-be57-fc03c4ee294e')\"\n",
              "            title=\"Convert this dataframe to an interactive table.\"\n",
              "            style=\"display:none;\">\n",
              "\n",
              "  <svg xmlns=\"http://www.w3.org/2000/svg\" height=\"24px\" viewBox=\"0 -960 960 960\">\n",
              "    <path d=\"M120-120v-720h720v720H120Zm60-500h600v-160H180v160Zm220 220h160v-160H400v160Zm0 220h160v-160H400v160ZM180-400h160v-160H180v160Zm440 0h160v-160H620v160ZM180-180h160v-160H180v160Zm440 0h160v-160H620v160Z\"/>\n",
              "  </svg>\n",
              "    </button>\n",
              "\n",
              "  <style>\n",
              "    .colab-df-container {\n",
              "      display:flex;\n",
              "      gap: 12px;\n",
              "    }\n",
              "\n",
              "    .colab-df-convert {\n",
              "      background-color: #E8F0FE;\n",
              "      border: none;\n",
              "      border-radius: 50%;\n",
              "      cursor: pointer;\n",
              "      display: none;\n",
              "      fill: #1967D2;\n",
              "      height: 32px;\n",
              "      padding: 0 0 0 0;\n",
              "      width: 32px;\n",
              "    }\n",
              "\n",
              "    .colab-df-convert:hover {\n",
              "      background-color: #E2EBFA;\n",
              "      box-shadow: 0px 1px 2px rgba(60, 64, 67, 0.3), 0px 1px 3px 1px rgba(60, 64, 67, 0.15);\n",
              "      fill: #174EA6;\n",
              "    }\n",
              "\n",
              "    .colab-df-buttons div {\n",
              "      margin-bottom: 4px;\n",
              "    }\n",
              "\n",
              "    [theme=dark] .colab-df-convert {\n",
              "      background-color: #3B4455;\n",
              "      fill: #D2E3FC;\n",
              "    }\n",
              "\n",
              "    [theme=dark] .colab-df-convert:hover {\n",
              "      background-color: #434B5C;\n",
              "      box-shadow: 0px 1px 3px 1px rgba(0, 0, 0, 0.15);\n",
              "      filter: drop-shadow(0px 1px 2px rgba(0, 0, 0, 0.3));\n",
              "      fill: #FFFFFF;\n",
              "    }\n",
              "  </style>\n",
              "\n",
              "    <script>\n",
              "      const buttonEl =\n",
              "        document.querySelector('#df-79f22216-7379-4fa5-be57-fc03c4ee294e button.colab-df-convert');\n",
              "      buttonEl.style.display =\n",
              "        google.colab.kernel.accessAllowed ? 'block' : 'none';\n",
              "\n",
              "      async function convertToInteractive(key) {\n",
              "        const element = document.querySelector('#df-79f22216-7379-4fa5-be57-fc03c4ee294e');\n",
              "        const dataTable =\n",
              "          await google.colab.kernel.invokeFunction('convertToInteractive',\n",
              "                                                    [key], {});\n",
              "        if (!dataTable) return;\n",
              "\n",
              "        const docLinkHtml = 'Like what you see? Visit the ' +\n",
              "          '<a target=\"_blank\" href=https://colab.research.google.com/notebooks/data_table.ipynb>data table notebook</a>'\n",
              "          + ' to learn more about interactive tables.';\n",
              "        element.innerHTML = '';\n",
              "        dataTable['output_type'] = 'display_data';\n",
              "        await google.colab.output.renderOutput(dataTable, element);\n",
              "        const docLink = document.createElement('div');\n",
              "        docLink.innerHTML = docLinkHtml;\n",
              "        element.appendChild(docLink);\n",
              "      }\n",
              "    </script>\n",
              "  </div>\n",
              "\n",
              "\n",
              "<div id=\"df-ea4c5384-ee3a-409a-b0a2-563dad73953e\">\n",
              "  <button class=\"colab-df-quickchart\" onclick=\"quickchart('df-ea4c5384-ee3a-409a-b0a2-563dad73953e')\"\n",
              "            title=\"Suggest charts\"\n",
              "            style=\"display:none;\">\n",
              "\n",
              "<svg xmlns=\"http://www.w3.org/2000/svg\" height=\"24px\"viewBox=\"0 0 24 24\"\n",
              "     width=\"24px\">\n",
              "    <g>\n",
              "        <path d=\"M19 3H5c-1.1 0-2 .9-2 2v14c0 1.1.9 2 2 2h14c1.1 0 2-.9 2-2V5c0-1.1-.9-2-2-2zM9 17H7v-7h2v7zm4 0h-2V7h2v10zm4 0h-2v-4h2v4z\"/>\n",
              "    </g>\n",
              "</svg>\n",
              "  </button>\n",
              "\n",
              "<style>\n",
              "  .colab-df-quickchart {\n",
              "      --bg-color: #E8F0FE;\n",
              "      --fill-color: #1967D2;\n",
              "      --hover-bg-color: #E2EBFA;\n",
              "      --hover-fill-color: #174EA6;\n",
              "      --disabled-fill-color: #AAA;\n",
              "      --disabled-bg-color: #DDD;\n",
              "  }\n",
              "\n",
              "  [theme=dark] .colab-df-quickchart {\n",
              "      --bg-color: #3B4455;\n",
              "      --fill-color: #D2E3FC;\n",
              "      --hover-bg-color: #434B5C;\n",
              "      --hover-fill-color: #FFFFFF;\n",
              "      --disabled-bg-color: #3B4455;\n",
              "      --disabled-fill-color: #666;\n",
              "  }\n",
              "\n",
              "  .colab-df-quickchart {\n",
              "    background-color: var(--bg-color);\n",
              "    border: none;\n",
              "    border-radius: 50%;\n",
              "    cursor: pointer;\n",
              "    display: none;\n",
              "    fill: var(--fill-color);\n",
              "    height: 32px;\n",
              "    padding: 0;\n",
              "    width: 32px;\n",
              "  }\n",
              "\n",
              "  .colab-df-quickchart:hover {\n",
              "    background-color: var(--hover-bg-color);\n",
              "    box-shadow: 0 1px 2px rgba(60, 64, 67, 0.3), 0 1px 3px 1px rgba(60, 64, 67, 0.15);\n",
              "    fill: var(--button-hover-fill-color);\n",
              "  }\n",
              "\n",
              "  .colab-df-quickchart-complete:disabled,\n",
              "  .colab-df-quickchart-complete:disabled:hover {\n",
              "    background-color: var(--disabled-bg-color);\n",
              "    fill: var(--disabled-fill-color);\n",
              "    box-shadow: none;\n",
              "  }\n",
              "\n",
              "  .colab-df-spinner {\n",
              "    border: 2px solid var(--fill-color);\n",
              "    border-color: transparent;\n",
              "    border-bottom-color: var(--fill-color);\n",
              "    animation:\n",
              "      spin 1s steps(1) infinite;\n",
              "  }\n",
              "\n",
              "  @keyframes spin {\n",
              "    0% {\n",
              "      border-color: transparent;\n",
              "      border-bottom-color: var(--fill-color);\n",
              "      border-left-color: var(--fill-color);\n",
              "    }\n",
              "    20% {\n",
              "      border-color: transparent;\n",
              "      border-left-color: var(--fill-color);\n",
              "      border-top-color: var(--fill-color);\n",
              "    }\n",
              "    30% {\n",
              "      border-color: transparent;\n",
              "      border-left-color: var(--fill-color);\n",
              "      border-top-color: var(--fill-color);\n",
              "      border-right-color: var(--fill-color);\n",
              "    }\n",
              "    40% {\n",
              "      border-color: transparent;\n",
              "      border-right-color: var(--fill-color);\n",
              "      border-top-color: var(--fill-color);\n",
              "    }\n",
              "    60% {\n",
              "      border-color: transparent;\n",
              "      border-right-color: var(--fill-color);\n",
              "    }\n",
              "    80% {\n",
              "      border-color: transparent;\n",
              "      border-right-color: var(--fill-color);\n",
              "      border-bottom-color: var(--fill-color);\n",
              "    }\n",
              "    90% {\n",
              "      border-color: transparent;\n",
              "      border-bottom-color: var(--fill-color);\n",
              "    }\n",
              "  }\n",
              "</style>\n",
              "\n",
              "  <script>\n",
              "    async function quickchart(key) {\n",
              "      const quickchartButtonEl =\n",
              "        document.querySelector('#' + key + ' button');\n",
              "      quickchartButtonEl.disabled = true;  // To prevent multiple clicks.\n",
              "      quickchartButtonEl.classList.add('colab-df-spinner');\n",
              "      try {\n",
              "        const charts = await google.colab.kernel.invokeFunction(\n",
              "            'suggestCharts', [key], {});\n",
              "      } catch (error) {\n",
              "        console.error('Error during call to suggestCharts:', error);\n",
              "      }\n",
              "      quickchartButtonEl.classList.remove('colab-df-spinner');\n",
              "      quickchartButtonEl.classList.add('colab-df-quickchart-complete');\n",
              "    }\n",
              "    (() => {\n",
              "      let quickchartButtonEl =\n",
              "        document.querySelector('#df-ea4c5384-ee3a-409a-b0a2-563dad73953e button');\n",
              "      quickchartButtonEl.style.display =\n",
              "        google.colab.kernel.accessAllowed ? 'block' : 'none';\n",
              "    })();\n",
              "  </script>\n",
              "</div>\n",
              "\n",
              "    </div>\n",
              "  </div>\n"
            ],
            "application/vnd.google.colaboratory.intrinsic+json": {
              "type": "dataframe",
              "variable_name": "df",
              "summary": "{\n  \"name\": \"df\",\n  \"rows\": 1775,\n  \"fields\": [\n    {\n      \"column\": \"Product Type\",\n      \"properties\": {\n        \"dtype\": \"category\",\n        \"num_unique_values\": 18,\n        \"samples\": [\n          \"Art & Sculpture\",\n          \"Basket\",\n          \"Textiles\"\n        ],\n        \"semantic_type\": \"\",\n        \"description\": \"\"\n      }\n    },\n    {\n      \"column\": \"Net Quantity\",\n      \"properties\": {\n        \"dtype\": \"number\",\n        \"std\": 6,\n        \"min\": -1,\n        \"max\": 96,\n        \"num_unique_values\": 42,\n        \"samples\": [\n          69,\n          37,\n          11\n        ],\n        \"semantic_type\": \"\",\n        \"description\": \"\"\n      }\n    },\n    {\n      \"column\": \"Gross Sales\",\n      \"properties\": {\n        \"dtype\": \"number\",\n        \"std\": 464.88063803075903,\n        \"min\": 0.0,\n        \"max\": 14935.0,\n        \"num_unique_values\": 388,\n        \"samples\": [\n          132.0,\n          952.0,\n          296.0\n        ],\n        \"semantic_type\": \"\",\n        \"description\": \"\"\n      }\n    },\n    {\n      \"column\": \"Discounts\",\n      \"properties\": {\n        \"dtype\": \"number\",\n        \"std\": 20.903516528346877,\n        \"min\": -594.0,\n        \"max\": 0.0,\n        \"num_unique_values\": 295,\n        \"samples\": [\n          -7.8,\n          -10.44,\n          -59.0\n        ],\n        \"semantic_type\": \"\",\n        \"description\": \"\"\n      }\n    },\n    {\n      \"column\": \"Returns\",\n      \"properties\": {\n        \"dtype\": \"number\",\n        \"std\": 46.65426921740474,\n        \"min\": -1609.0,\n        \"max\": 0.0,\n        \"num_unique_values\": 62,\n        \"samples\": [\n          -26.25,\n          -28.79,\n          -1609.0\n        ],\n        \"semantic_type\": \"\",\n        \"description\": \"\"\n      }\n    },\n    {\n      \"column\": \"Total Net Sales\",\n      \"properties\": {\n        \"dtype\": \"number\",\n        \"std\": 414.54703942151895,\n        \"min\": -106.25,\n        \"max\": 12732.0,\n        \"num_unique_values\": 729,\n        \"samples\": [\n          116.0,\n          445.0,\n          210.0\n        ],\n        \"semantic_type\": \"\",\n        \"description\": \"\"\n      }\n    }\n  ]\n}"
            }
          },
          "metadata": {},
          "execution_count": 5
        }
      ]
    },
    {
      "cell_type": "markdown",
      "source": [
        "**Performing data cleaning activities**"
      ],
      "metadata": {
        "id": "yQeRiU0FeHqJ"
      }
    },
    {
      "cell_type": "code",
      "source": [
        "#Check for missing data\n",
        "missing_data = df.isnull().sum()\n",
        "print(\"Missing data in each column:\")\n",
        "print(missing_data)"
      ],
      "metadata": {
        "colab": {
          "base_uri": "https://localhost:8080/"
        },
        "id": "OeWEHlABeVgn",
        "outputId": "35f68935-d57c-4e99-b00c-8431f3840bc9"
      },
      "execution_count": 6,
      "outputs": [
        {
          "output_type": "stream",
          "name": "stdout",
          "text": [
            "Missing data in each column:\n",
            "Product Type       8\n",
            "Net Quantity       0\n",
            "Gross Sales        0\n",
            "Discounts          0\n",
            "Returns            0\n",
            "Total Net Sales    0\n",
            "dtype: int64\n"
          ]
        }
      ]
    },
    {
      "cell_type": "code",
      "source": [
        "#Adding the $ sign to specified columns\n",
        "columns_to_format = ['Gross Sales', 'Discounts', 'Returns', 'Total Net Sales']\n",
        "for column in columns_to_format:\n",
        "    if column in df.columns:\n",
        "        df[column] = df[column].apply(lambda x: f\"${x:.2f}\" if pd.notnull(x) else x)\n"
      ],
      "metadata": {
        "id": "x4NvZWscgpjB"
      },
      "execution_count": 7,
      "outputs": []
    },
    {
      "cell_type": "code",
      "source": [
        "# Check for duplicates in each column\n",
        "duplicates_count = df.duplicated().sum()\n",
        "print(f\"\\nNumber of duplicate rows: {duplicates_count}\")\n",
        "\n",
        "# Remove duplicate rows\n",
        "df = df.drop_duplicates()"
      ],
      "metadata": {
        "colab": {
          "base_uri": "https://localhost:8080/"
        },
        "id": "MhacPwCAhAGg",
        "outputId": "b71b474d-bfc3-4eb2-c338-42d001cdba3a"
      },
      "execution_count": 8,
      "outputs": [
        {
          "output_type": "stream",
          "name": "stdout",
          "text": [
            "\n",
            "Number of duplicate rows: 512\n"
          ]
        }
      ]
    },
    {
      "cell_type": "code",
      "source": [
        "# Rechecking missing data after duplicate removal\n",
        "missing_data = df.isnull().sum()\n",
        "print(\"\\nMissing data after removing duplicates:\")\n",
        "print(missing_data)\n",
        "\n",
        "# Dropping rows with missing data\n",
        "df_cleaned = df.dropna()"
      ],
      "metadata": {
        "colab": {
          "base_uri": "https://localhost:8080/"
        },
        "id": "8QbG-oPCigqt",
        "outputId": "923e0802-6eb4-46c0-febe-ec77d64d10e3"
      },
      "execution_count": 12,
      "outputs": [
        {
          "output_type": "stream",
          "name": "stdout",
          "text": [
            "\n",
            "Missing data after removing duplicates:\n",
            "Product Type       7\n",
            "Net Quantity       0\n",
            "Gross Sales        0\n",
            "Discounts          0\n",
            "Returns            0\n",
            "Total Net Sales    0\n",
            "dtype: int64\n"
          ]
        }
      ]
    },
    {
      "cell_type": "code",
      "source": [
        "# Saving the cleaned dataset to a CSV file\n",
        "cleaned_file_path = 'cleaned_dataset.csv'\n",
        "df_cleaned.to_csv(cleaned_file_path, index=False)\n",
        "print(f\"\\nCleaned dataset saved to {cleaned_file_path}\")"
      ],
      "metadata": {
        "colab": {
          "base_uri": "https://localhost:8080/"
        },
        "collapsed": true,
        "id": "aOhM1ozUjJW4",
        "outputId": "3cfdaaa0-ddb9-41e1-db53-3e0da36d52a7"
      },
      "execution_count": 13,
      "outputs": [
        {
          "output_type": "stream",
          "name": "stdout",
          "text": [
            "\n",
            "Cleaned dataset saved to cleaned_dataset.csv\n"
          ]
        }
      ]
    }
  ]
}